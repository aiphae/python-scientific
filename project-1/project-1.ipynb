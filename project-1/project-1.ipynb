{
 "cells": [
  {
   "cell_type": "code",
   "id": "ae0d37e976cbef2a",
   "metadata": {
    "ExecuteTime": {
     "end_time": "2025-08-07T19:25:32.161187Z",
     "start_time": "2025-08-07T19:25:32.152906Z"
    }
   },
   "source": "import re",
   "outputs": [],
   "execution_count": 2
  },
  {
   "metadata": {
    "collapsed": true,
    "ExecuteTime": {
     "end_time": "2025-08-07T20:46:40.589492Z",
     "start_time": "2025-08-07T20:46:40.572883Z"
    }
   },
   "cell_type": "code",
   "source": [
    "with open(\"captions_text.vtt\", \"r\") as f:\n",
    "    text = f.read()\n",
    "\n",
    "pattern = r\"\\n+\\d*\\s*\\n\\d{2}:\\d{2}.\\d{3} --> \\d{2}:\\d{2}.\\d{3}\\n+\"\n",
    "\n",
    "cleaned_text = re.sub(pattern, '\\n', text)\n",
    "cleaned_text = cleaned_text[7:-1]\n",
    "\n",
    "pattern = r\"\\b\\w{4}\\b\"\n",
    "\n",
    "def replace_four_letter_word(match):\n",
    "    word = match.group(0)\n",
    "    return word[0] + \"***\"\n",
    "\n",
    "cleaned_text = re.sub(pattern, replace_four_letter_word, cleaned_text)\n",
    "\n",
    "with open(\"cleared_text.txt\",  \"w\") as f:\n",
    "    f.write(cleaned_text)\n"
   ],
   "id": "initial_id",
   "outputs": [],
   "execution_count": 20
  }
 ],
 "metadata": {
  "kernelspec": {
   "display_name": "Python 3",
   "language": "python",
   "name": "python3"
  },
  "language_info": {
   "codemirror_mode": {
    "name": "ipython",
    "version": 2
   },
   "file_extension": ".py",
   "mimetype": "text/x-python",
   "name": "python",
   "nbconvert_exporter": "python",
   "pygments_lexer": "ipython2",
   "version": "2.7.6"
  }
 },
 "nbformat": 4,
 "nbformat_minor": 5
}
